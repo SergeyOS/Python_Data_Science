{
 "cells": [
  {
   "cell_type": "markdown",
   "metadata": {},
   "source": [
    "Задание:\n",
    "Используя данные из train.csv, построить\n",
    "модель для предсказания цен на недвижимость (квартиры).\n",
    "С помощью полученной модели предсказать\n",
    "цены для квартир из файла test.csv.\n",
    "\n",
    "Целевая переменная:\n",
    "Price\n",
    "\n",
    "Основная метрика:\n",
    "R2 - коэффициент детерминации (sklearn.metrics.r2_score)\n",
    "\n",
    "Вспомогательная метрика:\n",
    "MSE - средняя квадратичная ошибка (sklearn.metrics.mean_squared_error)"
   ]
  },
  {
   "cell_type": "markdown",
   "metadata": {},
   "source": [
    "### Library"
   ]
  },
  {
   "cell_type": "code",
   "execution_count": 1,
   "metadata": {},
   "outputs": [],
   "source": [
    "import numpy as np\n",
    "import pandas as pd\n",
    "from sklearn.model_selection import train_test_split\n",
    "from sklearn.metrics import r2_score as r2, mean_squared_error as mse\n",
    "from sklearn.ensemble import RandomForestRegressor as RF\n",
    "from sklearn.linear_model import LinearRegression as LR\n",
    "from sklearn.model_selection import GridSearchCV\n",
    "\n",
    "import warnings\n",
    "\n",
    "warnings.filterwarnings('ignore')"
   ]
  },
  {
   "cell_type": "markdown",
   "metadata": {},
   "source": [
    "### Initialization"
   ]
  },
  {
   "cell_type": "code",
   "execution_count": 2,
   "metadata": {},
   "outputs": [],
   "source": [
    "data_train = pd.read_csv('train.csv')\n",
    "train, valid = train_test_split(data_train, test_size=0.1, random_state=128)"
   ]
  },
  {
   "cell_type": "code",
   "execution_count": 3,
   "metadata": {},
   "outputs": [
    {
     "data": {
      "text/plain": [
       "((9000, 20), (1000, 20))"
      ]
     },
     "execution_count": 3,
     "metadata": {},
     "output_type": "execute_result"
    }
   ],
   "source": [
    "train.shape, valid.shape"
   ]
  },
  {
   "cell_type": "markdown",
   "metadata": {},
   "source": [
    "Анализируем наличие незаполненных значениях"
   ]
  },
  {
   "cell_type": "code",
   "execution_count": 4,
   "metadata": {},
   "outputs": [
    {
     "name": "stdout",
     "output_type": "stream",
     "text": [
      "<class 'pandas.core.frame.DataFrame'>\n",
      "Int64Index: 9000 entries, 8097 to 7251\n",
      "Data columns (total 20 columns):\n",
      "Id               9000 non-null int64\n",
      "DistrictId       9000 non-null int64\n",
      "Rooms            9000 non-null float64\n",
      "Square           9000 non-null float64\n",
      "LifeSquare       7117 non-null float64\n",
      "KitchenSquare    9000 non-null float64\n",
      "Floor            9000 non-null int64\n",
      "HouseFloor       9000 non-null float64\n",
      "HouseYear        9000 non-null int64\n",
      "Ecology_1        9000 non-null float64\n",
      "Ecology_2        9000 non-null object\n",
      "Ecology_3        9000 non-null object\n",
      "Social_1         9000 non-null int64\n",
      "Social_2         9000 non-null int64\n",
      "Social_3         9000 non-null int64\n",
      "Healthcare_1     4682 non-null float64\n",
      "Helthcare_2      9000 non-null int64\n",
      "Shops_1          9000 non-null int64\n",
      "Shops_2          9000 non-null object\n",
      "Price            9000 non-null float64\n",
      "dtypes: float64(8), int64(9), object(3)\n",
      "memory usage: 1.4+ MB\n"
     ]
    }
   ],
   "source": [
    "train.info()"
   ]
  },
  {
   "cell_type": "markdown",
   "metadata": {},
   "source": [
    "Смотрим корреляцию признаков с целевой переменной"
   ]
  },
  {
   "cell_type": "code",
   "execution_count": 5,
   "metadata": {},
   "outputs": [
    {
     "data": {
      "text/plain": [
       "Id               0.013966\n",
       "DistrictId       0.266921\n",
       "Rooms            0.567005\n",
       "Square           0.541523\n",
       "LifeSquare       0.076603\n",
       "KitchenSquare    0.048317\n",
       "Floor            0.128285\n",
       "HouseFloor       0.092363\n",
       "HouseYear        0.004493\n",
       "Ecology_1       -0.059476\n",
       "Social_1         0.264162\n",
       "Social_2         0.238851\n",
       "Social_3         0.073613\n",
       "Healthcare_1     0.137576\n",
       "Helthcare_2      0.253654\n",
       "Shops_1          0.180100\n",
       "Price            1.000000\n",
       "Name: Price, dtype: float64"
      ]
     },
     "execution_count": 5,
     "metadata": {},
     "output_type": "execute_result"
    }
   ],
   "source": [
    "train.corr()['Price']"
   ]
  },
  {
   "cell_type": "code",
   "execution_count": 6,
   "metadata": {},
   "outputs": [
    {
     "data": {
      "text/html": [
       "<div>\n",
       "<style scoped>\n",
       "    .dataframe tbody tr th:only-of-type {\n",
       "        vertical-align: middle;\n",
       "    }\n",
       "\n",
       "    .dataframe tbody tr th {\n",
       "        vertical-align: top;\n",
       "    }\n",
       "\n",
       "    .dataframe thead th {\n",
       "        text-align: right;\n",
       "    }\n",
       "</style>\n",
       "<table border=\"1\" class=\"dataframe\">\n",
       "  <thead>\n",
       "    <tr style=\"text-align: right;\">\n",
       "      <th></th>\n",
       "      <th>Id</th>\n",
       "      <th>DistrictId</th>\n",
       "      <th>Rooms</th>\n",
       "      <th>Square</th>\n",
       "      <th>LifeSquare</th>\n",
       "      <th>KitchenSquare</th>\n",
       "      <th>Floor</th>\n",
       "      <th>HouseFloor</th>\n",
       "      <th>HouseYear</th>\n",
       "      <th>Ecology_1</th>\n",
       "      <th>Social_1</th>\n",
       "      <th>Social_2</th>\n",
       "      <th>Social_3</th>\n",
       "      <th>Healthcare_1</th>\n",
       "      <th>Helthcare_2</th>\n",
       "      <th>Shops_1</th>\n",
       "      <th>Price</th>\n",
       "    </tr>\n",
       "  </thead>\n",
       "  <tbody>\n",
       "    <tr>\n",
       "      <th>count</th>\n",
       "      <td>9000.000000</td>\n",
       "      <td>9000.000000</td>\n",
       "      <td>9000.000000</td>\n",
       "      <td>9000.000000</td>\n",
       "      <td>7117.000000</td>\n",
       "      <td>9000.000000</td>\n",
       "      <td>9000.000000</td>\n",
       "      <td>9000.000000</td>\n",
       "      <td>9.000000e+03</td>\n",
       "      <td>9000.000000</td>\n",
       "      <td>9000.000000</td>\n",
       "      <td>9000.000000</td>\n",
       "      <td>9000.000000</td>\n",
       "      <td>4682.000000</td>\n",
       "      <td>9000.000000</td>\n",
       "      <td>9000.000000</td>\n",
       "      <td>9000.000000</td>\n",
       "    </tr>\n",
       "    <tr>\n",
       "      <th>mean</th>\n",
       "      <td>8389.974111</td>\n",
       "      <td>50.582000</td>\n",
       "      <td>1.888556</td>\n",
       "      <td>56.231602</td>\n",
       "      <td>37.180653</td>\n",
       "      <td>6.126778</td>\n",
       "      <td>8.527333</td>\n",
       "      <td>12.631889</td>\n",
       "      <td>4.213011e+03</td>\n",
       "      <td>0.118603</td>\n",
       "      <td>24.767333</td>\n",
       "      <td>5366.418667</td>\n",
       "      <td>7.975333</td>\n",
       "      <td>1145.282785</td>\n",
       "      <td>1.318778</td>\n",
       "      <td>4.229222</td>\n",
       "      <td>214379.326346</td>\n",
       "    </tr>\n",
       "    <tr>\n",
       "      <th>std</th>\n",
       "      <td>4867.567914</td>\n",
       "      <td>43.738639</td>\n",
       "      <td>0.822591</td>\n",
       "      <td>20.340510</td>\n",
       "      <td>90.293949</td>\n",
       "      <td>21.327909</td>\n",
       "      <td>5.233892</td>\n",
       "      <td>6.781490</td>\n",
       "      <td>2.113458e+05</td>\n",
       "      <td>0.118734</td>\n",
       "      <td>17.533740</td>\n",
       "      <td>4008.725416</td>\n",
       "      <td>23.587475</td>\n",
       "      <td>1017.840296</td>\n",
       "      <td>1.488125</td>\n",
       "      <td>4.782503</td>\n",
       "      <td>93233.241122</td>\n",
       "    </tr>\n",
       "    <tr>\n",
       "      <th>min</th>\n",
       "      <td>0.000000</td>\n",
       "      <td>0.000000</td>\n",
       "      <td>0.000000</td>\n",
       "      <td>1.136859</td>\n",
       "      <td>0.641822</td>\n",
       "      <td>0.000000</td>\n",
       "      <td>1.000000</td>\n",
       "      <td>0.000000</td>\n",
       "      <td>1.910000e+03</td>\n",
       "      <td>0.000000</td>\n",
       "      <td>0.000000</td>\n",
       "      <td>168.000000</td>\n",
       "      <td>0.000000</td>\n",
       "      <td>0.000000</td>\n",
       "      <td>0.000000</td>\n",
       "      <td>0.000000</td>\n",
       "      <td>59174.778028</td>\n",
       "    </tr>\n",
       "    <tr>\n",
       "      <th>25%</th>\n",
       "      <td>4176.500000</td>\n",
       "      <td>20.000000</td>\n",
       "      <td>1.000000</td>\n",
       "      <td>41.774881</td>\n",
       "      <td>22.812328</td>\n",
       "      <td>1.000000</td>\n",
       "      <td>4.000000</td>\n",
       "      <td>9.000000</td>\n",
       "      <td>1.974000e+03</td>\n",
       "      <td>0.017647</td>\n",
       "      <td>6.000000</td>\n",
       "      <td>1564.000000</td>\n",
       "      <td>0.000000</td>\n",
       "      <td>350.000000</td>\n",
       "      <td>0.000000</td>\n",
       "      <td>1.000000</td>\n",
       "      <td>153778.470631</td>\n",
       "    </tr>\n",
       "    <tr>\n",
       "      <th>50%</th>\n",
       "      <td>8391.500000</td>\n",
       "      <td>35.500000</td>\n",
       "      <td>2.000000</td>\n",
       "      <td>52.462026</td>\n",
       "      <td>32.752586</td>\n",
       "      <td>6.000000</td>\n",
       "      <td>7.000000</td>\n",
       "      <td>13.000000</td>\n",
       "      <td>1.977000e+03</td>\n",
       "      <td>0.075424</td>\n",
       "      <td>25.000000</td>\n",
       "      <td>5285.000000</td>\n",
       "      <td>2.000000</td>\n",
       "      <td>900.000000</td>\n",
       "      <td>1.000000</td>\n",
       "      <td>3.000000</td>\n",
       "      <td>192511.807794</td>\n",
       "    </tr>\n",
       "    <tr>\n",
       "      <th>75%</th>\n",
       "      <td>12605.250000</td>\n",
       "      <td>75.000000</td>\n",
       "      <td>2.000000</td>\n",
       "      <td>65.846466</td>\n",
       "      <td>45.054036</td>\n",
       "      <td>9.000000</td>\n",
       "      <td>12.000000</td>\n",
       "      <td>17.000000</td>\n",
       "      <td>2.001000e+03</td>\n",
       "      <td>0.195781</td>\n",
       "      <td>36.000000</td>\n",
       "      <td>7287.000000</td>\n",
       "      <td>5.000000</td>\n",
       "      <td>1548.000000</td>\n",
       "      <td>2.000000</td>\n",
       "      <td>6.000000</td>\n",
       "      <td>249970.954618</td>\n",
       "    </tr>\n",
       "    <tr>\n",
       "      <th>max</th>\n",
       "      <td>16798.000000</td>\n",
       "      <td>209.000000</td>\n",
       "      <td>10.000000</td>\n",
       "      <td>604.705972</td>\n",
       "      <td>7480.592129</td>\n",
       "      <td>1970.000000</td>\n",
       "      <td>42.000000</td>\n",
       "      <td>117.000000</td>\n",
       "      <td>2.005201e+07</td>\n",
       "      <td>0.521867</td>\n",
       "      <td>74.000000</td>\n",
       "      <td>19083.000000</td>\n",
       "      <td>141.000000</td>\n",
       "      <td>4849.000000</td>\n",
       "      <td>6.000000</td>\n",
       "      <td>23.000000</td>\n",
       "      <td>633233.466570</td>\n",
       "    </tr>\n",
       "  </tbody>\n",
       "</table>\n",
       "</div>"
      ],
      "text/plain": [
       "                 Id   DistrictId        Rooms       Square   LifeSquare  \\\n",
       "count   9000.000000  9000.000000  9000.000000  9000.000000  7117.000000   \n",
       "mean    8389.974111    50.582000     1.888556    56.231602    37.180653   \n",
       "std     4867.567914    43.738639     0.822591    20.340510    90.293949   \n",
       "min        0.000000     0.000000     0.000000     1.136859     0.641822   \n",
       "25%     4176.500000    20.000000     1.000000    41.774881    22.812328   \n",
       "50%     8391.500000    35.500000     2.000000    52.462026    32.752586   \n",
       "75%    12605.250000    75.000000     2.000000    65.846466    45.054036   \n",
       "max    16798.000000   209.000000    10.000000   604.705972  7480.592129   \n",
       "\n",
       "       KitchenSquare        Floor   HouseFloor     HouseYear    Ecology_1  \\\n",
       "count    9000.000000  9000.000000  9000.000000  9.000000e+03  9000.000000   \n",
       "mean        6.126778     8.527333    12.631889  4.213011e+03     0.118603   \n",
       "std        21.327909     5.233892     6.781490  2.113458e+05     0.118734   \n",
       "min         0.000000     1.000000     0.000000  1.910000e+03     0.000000   \n",
       "25%         1.000000     4.000000     9.000000  1.974000e+03     0.017647   \n",
       "50%         6.000000     7.000000    13.000000  1.977000e+03     0.075424   \n",
       "75%         9.000000    12.000000    17.000000  2.001000e+03     0.195781   \n",
       "max      1970.000000    42.000000   117.000000  2.005201e+07     0.521867   \n",
       "\n",
       "          Social_1      Social_2     Social_3  Healthcare_1  Helthcare_2  \\\n",
       "count  9000.000000   9000.000000  9000.000000   4682.000000  9000.000000   \n",
       "mean     24.767333   5366.418667     7.975333   1145.282785     1.318778   \n",
       "std      17.533740   4008.725416    23.587475   1017.840296     1.488125   \n",
       "min       0.000000    168.000000     0.000000      0.000000     0.000000   \n",
       "25%       6.000000   1564.000000     0.000000    350.000000     0.000000   \n",
       "50%      25.000000   5285.000000     2.000000    900.000000     1.000000   \n",
       "75%      36.000000   7287.000000     5.000000   1548.000000     2.000000   \n",
       "max      74.000000  19083.000000   141.000000   4849.000000     6.000000   \n",
       "\n",
       "           Shops_1          Price  \n",
       "count  9000.000000    9000.000000  \n",
       "mean      4.229222  214379.326346  \n",
       "std       4.782503   93233.241122  \n",
       "min       0.000000   59174.778028  \n",
       "25%       1.000000  153778.470631  \n",
       "50%       3.000000  192511.807794  \n",
       "75%       6.000000  249970.954618  \n",
       "max      23.000000  633233.466570  "
      ]
     },
     "execution_count": 6,
     "metadata": {},
     "output_type": "execute_result"
    }
   ],
   "source": [
    "train.describe()\n"
   ]
  },
  {
   "cell_type": "markdown",
   "metadata": {},
   "source": [
    "### Function prepare data"
   ]
  },
  {
   "cell_type": "markdown",
   "metadata": {},
   "source": [
    "Обработка Rooms и подготовка признаков со средними значениями цены и площадей по комнатам"
   ]
  },
  {
   "cell_type": "code",
   "execution_count": 7,
   "metadata": {},
   "outputs": [],
   "source": [
    "# Формируем статистику средних цен, площадей в зависимости от комнат\n",
    "# Отсекаем квартиры с 0 комнатами и больше 5 комнат\n",
    "def get_stat_Rooms_mean(df):\n",
    "    parameters = {'group_columns': ['Rooms'], \n",
    "               'mean_columns': ['Square', 'LifeSquare', 'KitchenSquare', 'Price'],\n",
    "               'mean_columns_rename': {'Square': 'mean_Square_r', 'LifeSquare': 'mean_LifeSquare_r',\n",
    "                                       'KitchenSquare': 'mean_KitchenSquare_r', 'Price': 'mean_price_r' }\n",
    "             }\n",
    "    spam = df.groupby(['Rooms'], as_index=False)['Square', 'LifeSquare', 'KitchenSquare', 'Price'].mean().rename(\n",
    "                                        columns = {'Square': 'mean_Square_r', 'LifeSquare': 'mean_LifeSquare_r',\n",
    "                                       'KitchenSquare': 'mean_KitchenSquare_r', 'Price': 'mean_price_r' })\n",
    "    spam = spam.loc[(spam['Rooms'] > 0)&(spam['Rooms'] < 6)]\n",
    "\n",
    "    return spam\n",
    " "
   ]
  },
  {
   "cell_type": "code",
   "execution_count": 8,
   "metadata": {},
   "outputs": [],
   "source": [
    "# Все квартиры с 0 комнат относим по площади к квартирам с большой количеством комнат\n",
    "# Если количестов комнат больше 5, а площадь малая, то относим по площади к квартирам с меньшим количеством комнат\n",
    "# Оставшиеся квартиры с 0 комнат относим к 1-комнатным\n",
    "# Оставшиеся квартиры с количестовом комнат больше 5 оставляем как есть\n",
    "def prepare_Rooms(df,  stat_r_mean):\n",
    "    spam = df.loc[(df['Rooms'] == 0) |(df['Rooms'] > 5)]\n",
    "    for eggs in stat_r_mean.itertuples():\n",
    "        spam.loc[(\n",
    "                    (spam['Square']>eggs[2]) &(spam['Rooms']<eggs[1])\n",
    "                )|(\n",
    "                    (spam['Square']<eggs[2]) &(spam['Rooms']>eggs[1])\n",
    "                )\n",
    "            , 'Rooms'] = eggs[1]\n",
    "\n",
    "\n",
    "    df.loc[(df['Rooms'] == 0) | (df['Rooms'] > 5)] = spam  \n",
    "    df.loc[(df['Rooms'] == 0), 'Rooms'] = 1\n",
    "    df.loc[(df['Rooms']  > 5), 'Rooms'] = 5\n",
    "    return df"
   ]
  },
  {
   "cell_type": "markdown",
   "metadata": {},
   "source": [
    "Функции, обрабатывающие Square, LifeSquare, KitchenSquare, убирающие выбросы больших, малых значений"
   ]
  },
  {
   "cell_type": "code",
   "execution_count": 9,
   "metadata": {},
   "outputs": [],
   "source": [
    "### Заполняем незаполненную жилую площадь\n",
    "def fillna_LifeSqure(df):\n",
    "    df['LifeSquare'] = df['LifeSquare'].fillna(df['Square'] - df['KitchenSquare'])\n",
    "    return df"
   ]
  },
  {
   "cell_type": "code",
   "execution_count": 10,
   "metadata": {},
   "outputs": [],
   "source": [
    "# Готовим данные по площади  \n",
    "def clean_Square(df):\n",
    "    # Меняем местмами жилую и общую площадь, если жилая больше общей\n",
    "    df[['Square','LifeSquare']] = df[['LifeSquare','Square']].where(\n",
    "            df['LifeSquare'] > df['Square'], df[['Square','LifeSquare']].values)\n",
    "    \n",
    "    # задаем средние значения для небольших площадей\n",
    "    df.loc[df['Square'] < 15, 'Square'] = df.loc[df['Square'] < 15, 'mean_Square_r'] \n",
    "    df.loc[df['KitchenSquare'] < 4, 'KitchenSquare'] = df.loc[df['KitchenSquare'] < 4, 'mean_KitchenSquare_r']\n",
    "    df.loc[df['LifeSquare'] < 10, 'LifeSquare'] = df.loc[df['LifeSquare'] < 10, 'mean_LifeSquare_r']\n",
    "    \n",
    "    # задаем средние значения для больших площадей\n",
    "    df.loc[df ['Square'] > 400,'Square'] =  df.loc[df ['Square'] > 400, 'mean_Square_r']\n",
    "    df.loc[df ['LifeSquare'] > 400,'Square'] =  df.loc[df ['LifeSquare'] > 400, 'mean_Square_r']\n",
    "    df.loc[df ['KitchenSquare'] + df ['LifeSquare'] > df['Square'], 'KitchenSquare'] = df.loc[df ['KitchenSquare'] + df ['LifeSquare']  > df['Square'], 'mean_KitchenSquare_r']\n",
    "    \n",
    "    return df"
   ]
  },
  {
   "cell_type": "markdown",
   "metadata": {},
   "source": [
    "Функции добавления признака средней цены по району и количеству комнат"
   ]
  },
  {
   "cell_type": "code",
   "execution_count": 11,
   "metadata": {},
   "outputs": [],
   "source": [
    "# Получаем статистиу о средней цене по району_комнатам\n",
    "def get_stat_District_Rooms_means(df):\n",
    "    parameters = {'group_columns': ['DistrictId', 'Rooms'], \n",
    "               'mean_columns': ['Price'],\n",
    "               'mean_columns_rename': {'Price': 'mean_price_dr' }\n",
    "             }\n",
    "    spam = df.groupby(['DistrictId', 'Rooms'], as_index=False)['Price'].mean().rename(columns={'Price': 'mean_price_dr' })\n",
    "\n",
    "    return spam"
   ]
  },
  {
   "cell_type": "code",
   "execution_count": 12,
   "metadata": {},
   "outputs": [],
   "source": [
    "# Добавляем среднее значение цены по району и количеству комнат, а также mean Square\n",
    "def prepare_mean_price_square(df, stat_dr_mean, stat_r_mean, stat):\n",
    "    df = pd.merge(df, stat_dr_mean, on = ['DistrictId', 'Rooms'] , how='left')\n",
    "    df = pd.merge(df, stat_r_mean, on = ['Rooms'], how='left')\n",
    "    df['mean_price_r'] = df['mean_price_r'].fillna(stat['mean_price'])\n",
    "    df['mean_price_dr'] = df['mean_price_dr'].fillna(df['mean_price_r'])\n",
    "    \n",
    "    \n",
    "    df['mean_Square_r'] = df['mean_Square_r'].fillna(stat['mean_Square'])\n",
    "    df['mean_LifeSquare_r'] = df['mean_LifeSquare_r'].fillna(stat['mean_LifeSquare'])\n",
    "    df['mean_KitchenSquare_r'] = df['mean_KitchenSquare_r'].fillna(stat['mean_KitchenSquare'])\n",
    "    return df"
   ]
  },
  {
   "cell_type": "markdown",
   "metadata": {},
   "source": [
    "Функция подготовки признака Year"
   ]
  },
  {
   "cell_type": "code",
   "execution_count": 13,
   "metadata": {},
   "outputs": [],
   "source": [
    "# Убираем явные выбросы после 2020 года\n",
    "def prepare_year_after2020(df):\n",
    "    df.loc[df['HouseYear'] > 2020, 'HouseYear'] = df.loc[df['HouseYear'] > 2020, 'HouseYear'] % 2021\n",
    "    return df"
   ]
  },
  {
   "cell_type": "markdown",
   "metadata": {},
   "source": [
    "Функции подготовки HouseFloor, Floor"
   ]
  },
  {
   "cell_type": "code",
   "execution_count": 14,
   "metadata": {},
   "outputs": [],
   "source": [
    "# Приводит этажность дома равную 0 к этажу квартиры\n",
    "def prepare_HouseFloor(df):\n",
    "    df.loc[df['HouseFloor'] == 0, 'HouseFloor'] = df['Floor'] \n",
    "    return df"
   ]
  },
  {
   "cell_type": "code",
   "execution_count": 15,
   "metadata": {},
   "outputs": [],
   "source": [
    "# Если этаж квартиры меньше этажности дома, то меняем местами\n",
    "def swap_HouseFloor_Floor(df):\n",
    "    df[['HouseFloor','Floor']] = df[['Floor','HouseFloor']].where(\n",
    "        df['Floor'] > df['HouseFloor'], df[['HouseFloor','Floor']].values) \n",
    "    return df"
   ]
  },
  {
   "cell_type": "markdown",
   "metadata": {},
   "source": [
    "Работа с категориальными признаками"
   ]
  },
  {
   "cell_type": "code",
   "execution_count": 16,
   "metadata": {},
   "outputs": [],
   "source": [
    "### Заполнение пропущенных Healthcare_1\n",
    "def fillna_Healthcare_1(df):\n",
    "    df['Healthcare_1'] = df['Healthcare_1'].fillna(0)\n",
    "    return df"
   ]
  },
  {
   "cell_type": "code",
   "execution_count": 17,
   "metadata": {},
   "outputs": [],
   "source": [
    "# Преобразование категориальных признаков в бинарные\n",
    "# При анализе сильно ухудшили метрики и были исключены\n",
    "def create_dummies(df, train_columns):\n",
    "    df = pd.get_dummies(df)\n",
    "    missing_cols = set( train_columns ) - set( df.columns )\n",
    "    for c in missing_cols:\n",
    "        df[c] = 0\n",
    "    return df"
   ]
  },
  {
   "cell_type": "code",
   "execution_count": 18,
   "metadata": {},
   "outputs": [],
   "source": [
    "# Формирование статистики для каждого категориального признака частоты в тренировочной выборке\n",
    "def get_stat_ratio(df):\n",
    "    spam = {}\n",
    "    for item in categorical_columns():  \n",
    "        distr_info = df[item].value_counts(normalize=True).reset_index().rename(columns={'index':item, \n",
    "                                                                               item:'ratio_'+item})\n",
    "        spam[item] = {'group_columns': item, \n",
    "                      'ratio_columns': 'ratio_'+item,\n",
    "                      'ratio_value':distr_info}\n",
    "                      \n",
    "      \n",
    "    return spam"
   ]
  },
  {
   "cell_type": "code",
   "execution_count": 19,
   "metadata": {},
   "outputs": [],
   "source": [
    "# Формирование статистики для каждого категориального признака средней цены в тренировочной выборке\n",
    "def get_stat_mean(df):\n",
    "    spam = {}\n",
    "    for item in categorical_columns():  \n",
    "        distr_info = df.groupby([item], as_index=False)['Price'].mean().rename(columns={'Price': 'mean_price_'+item})\n",
    "        item_mean = df[item].mean()\n",
    "        spam[item] = {'group_columns': item, \n",
    "                      'mean_columns': 'mean_price_'+item,\n",
    "                      'mean_value':distr_info,\n",
    "                       'mean_item': item_mean}\n",
    "                      \n",
    "      \n",
    "    return spam"
   ]
  },
  {
   "cell_type": "code",
   "execution_count": 20,
   "metadata": {},
   "outputs": [],
   "source": [
    "# Добавление признака частоты категориальных признаков\n",
    "def add_ratio(df, stat):\n",
    "    ratio_stat = stat['stat_ratio'] \n",
    "    for eggs in categorical_columns():    \n",
    "        spam_stat = ratio_stat[eggs] \n",
    "        df = pd.merge(df, spam_stat['ratio_value'], on=spam_stat['group_columns'], how='left')\n",
    "        df[spam_stat['ratio_columns']] = df[spam_stat['ratio_columns']].fillna(0)\n",
    "        df[spam_stat['ratio_columns']] = df[spam_stat['ratio_columns']].astype(float)\n",
    "    return df"
   ]
  },
  {
   "cell_type": "code",
   "execution_count": 21,
   "metadata": {},
   "outputs": [],
   "source": [
    "# Добавление признака средней цены категориальных признаков\n",
    "def add_mean_price_cat_columns(df, stat):\n",
    "    ratio_stat = stat['stat_mean'] \n",
    "    for eggs in categorical_columns():    \n",
    "        spam_stat = ratio_stat[eggs] \n",
    "        df = pd.merge(df, spam_stat['mean_value'], on=spam_stat['group_columns'], how='left')\n",
    "        df[spam_stat['mean_columns']] = df[spam_stat['mean_columns']].fillna(spam_stat['mean_item'])\n",
    "    return df"
   ]
  },
  {
   "cell_type": "code",
   "execution_count": 22,
   "metadata": {},
   "outputs": [],
   "source": [
    "# Возвращает список категориальных признаков, найденых при анализе\n",
    "def categorical_columns():\n",
    "     return ['DistrictId', 'Social_1', 'Social_3', 'Healthcare_1', 'Helthcare_2', 'Shops_1']"
   ]
  },
  {
   "cell_type": "code",
   "execution_count": 23,
   "metadata": {},
   "outputs": [],
   "source": [
    "# Возвращает список бинарных категориальных признаков, найденых при анализе\n",
    "def binary_columns():\n",
    "     return ['Ecology_2', 'Ecology_3', 'Shops_2']"
   ]
  },
  {
   "cell_type": "code",
   "execution_count": 24,
   "metadata": {},
   "outputs": [],
   "source": [
    "# Возвращает список некатегориальных столбцов\n",
    "def get_noncategorical_columns(df):\n",
    "    return [c for c in df.columns if df[c].dtype.name != 'object']"
   ]
  },
  {
   "cell_type": "code",
   "execution_count": 25,
   "metadata": {},
   "outputs": [],
   "source": [
    "# Приводит значения в столбцах из числового в категориальный\n",
    "def type_to_categorical(df):\n",
    "    for column_name in categorical_columns():\n",
    "        df[column_name] = df[column_name].astype(object)\n",
    "    return df"
   ]
  },
  {
   "cell_type": "code",
   "execution_count": 26,
   "metadata": {},
   "outputs": [],
   "source": [
    "# Преобразует значения в бинарных категориальных столбцах в [0,1]\n",
    "def prepare_binary_columns(df, cat_fts=binary_columns()):\n",
    "    for col in cat_fts:\n",
    "        df[col] = (df[col] == 'B').astype(int)\n",
    "    return df"
   ]
  },
  {
   "cell_type": "markdown",
   "metadata": {},
   "source": [
    "### Prepare data"
   ]
  },
  {
   "cell_type": "markdown",
   "metadata": {},
   "source": [
    "Формируем статистики на тренировочной выборке"
   ]
  },
  {
   "cell_type": "code",
   "execution_count": 27,
   "metadata": {},
   "outputs": [],
   "source": [
    "stat = {}\n",
    "stat_r_mean = get_stat_Rooms_mean(train)\n",
    "stat_dr_mean = get_stat_District_Rooms_means(train)\n",
    "stat['mean_price'] = train['Price'].mean()\n",
    "stat['mean_Square'] = train['Square'].mean()\n",
    "stat['mean_LifeSquare'] = train['LifeSquare'].mean()\n",
    "stat['mean_KitchenSquare'] = train['KitchenSquare'].mean()\n",
    "stat['stat_ratio'] = get_stat_ratio(train)\n",
    "stat['stat_mean'] = get_stat_mean(train)"
   ]
  },
  {
   "cell_type": "markdown",
   "metadata": {},
   "source": [
    "Функция подготовки данных"
   ]
  },
  {
   "cell_type": "code",
   "execution_count": 28,
   "metadata": {},
   "outputs": [],
   "source": [
    "def prepare_data(df, stat_r_mean = stat_r_mean, stat_dr_mean = stat_dr_mean, stat = stat, train_columns = train.columns):\n",
    "    df = fillna_LifeSqure(df)\n",
    "    df = fillna_Healthcare_1(df)\n",
    "    \n",
    "    df = prepare_Rooms(df, stat_r_mean)\n",
    "    df = prepare_mean_price_square(df, stat_dr_mean, stat_r_mean, stat)\n",
    "    df = prepare_year_after2020(df)\n",
    "    df = clean_Square(df)\n",
    "    df = prepare_HouseFloor(df)\n",
    "    df = swap_HouseFloor_Floor(df)\n",
    "    \n",
    "    df = add_ratio(df, stat)\n",
    "    df = add_mean_price_cat_columns(df, stat)\n",
    "    df = type_to_categorical(df)\n",
    "    df = prepare_binary_columns(df)\n",
    "    df['Social_2'] = df['Social_2'].astype(int)\n",
    "    # df = create_dummies(df, train_columns)\n",
    "    return df"
   ]
  },
  {
   "cell_type": "code",
   "execution_count": 29,
   "metadata": {},
   "outputs": [],
   "source": [
    "train = prepare_data(train)\n",
    "valid = prepare_data(valid)"
   ]
  },
  {
   "cell_type": "markdown",
   "metadata": {},
   "source": [
    "### Create Model"
   ]
  },
  {
   "cell_type": "markdown",
   "metadata": {},
   "source": [
    "Формирование широкого списка признаков для расчета модели"
   ]
  },
  {
   "cell_type": "code",
   "execution_count": 30,
   "metadata": {},
   "outputs": [],
   "source": [
    "feats = get_noncategorical_columns(train)\n",
    "feats.remove('Price')\n",
    "feats.remove('Id')"
   ]
  },
  {
   "cell_type": "markdown",
   "metadata": {},
   "source": [
    "Проверка, что подготовка данных не удалили строки и не появились неопределенные значения"
   ]
  },
  {
   "cell_type": "code",
   "execution_count": 31,
   "metadata": {},
   "outputs": [
    {
     "name": "stdout",
     "output_type": "stream",
     "text": [
      "<class 'pandas.core.frame.DataFrame'>\n",
      "Int64Index: 9000 entries, 0 to 8999\n",
      "Data columns (total 29 columns):\n",
      "Rooms                      9000 non-null float64\n",
      "Square                     9000 non-null float64\n",
      "LifeSquare                 9000 non-null float64\n",
      "KitchenSquare              9000 non-null float64\n",
      "Floor                      9000 non-null float64\n",
      "HouseFloor                 9000 non-null int64\n",
      "HouseYear                  9000 non-null int64\n",
      "Ecology_1                  9000 non-null float64\n",
      "Ecology_2                  9000 non-null int32\n",
      "Ecology_3                  9000 non-null int32\n",
      "Social_2                   9000 non-null int32\n",
      "Shops_2                    9000 non-null int32\n",
      "mean_price_dr              9000 non-null float64\n",
      "mean_Square_r              9000 non-null float64\n",
      "mean_LifeSquare_r          9000 non-null float64\n",
      "mean_KitchenSquare_r       9000 non-null float64\n",
      "mean_price_r               9000 non-null float64\n",
      "ratio_DistrictId           9000 non-null float64\n",
      "ratio_Social_1             9000 non-null float64\n",
      "ratio_Social_3             9000 non-null float64\n",
      "ratio_Healthcare_1         9000 non-null float64\n",
      "ratio_Helthcare_2          9000 non-null float64\n",
      "ratio_Shops_1              9000 non-null float64\n",
      "mean_price_DistrictId      9000 non-null float64\n",
      "mean_price_Social_1        9000 non-null float64\n",
      "mean_price_Social_3        9000 non-null float64\n",
      "mean_price_Healthcare_1    9000 non-null float64\n",
      "mean_price_Helthcare_2     9000 non-null float64\n",
      "mean_price_Shops_1         9000 non-null float64\n",
      "dtypes: float64(23), int32(4), int64(2)\n",
      "memory usage: 1.9 MB\n"
     ]
    }
   ],
   "source": [
    "train[feats].info()"
   ]
  },
  {
   "cell_type": "code",
   "execution_count": 32,
   "metadata": {},
   "outputs": [
    {
     "name": "stdout",
     "output_type": "stream",
     "text": [
      "<class 'pandas.core.frame.DataFrame'>\n",
      "Int64Index: 1000 entries, 0 to 999\n",
      "Data columns (total 37 columns):\n",
      "Id                         1000 non-null int64\n",
      "DistrictId                 1000 non-null object\n",
      "Rooms                      1000 non-null float64\n",
      "Square                     1000 non-null float64\n",
      "LifeSquare                 1000 non-null float64\n",
      "KitchenSquare              1000 non-null float64\n",
      "Floor                      1000 non-null float64\n",
      "HouseFloor                 1000 non-null int64\n",
      "HouseYear                  1000 non-null int64\n",
      "Ecology_1                  1000 non-null float64\n",
      "Ecology_2                  1000 non-null int32\n",
      "Ecology_3                  1000 non-null int32\n",
      "Social_1                   1000 non-null object\n",
      "Social_2                   1000 non-null int32\n",
      "Social_3                   1000 non-null object\n",
      "Healthcare_1               1000 non-null object\n",
      "Helthcare_2                1000 non-null object\n",
      "Shops_1                    1000 non-null object\n",
      "Shops_2                    1000 non-null int32\n",
      "Price                      1000 non-null float64\n",
      "mean_price_dr              1000 non-null float64\n",
      "mean_Square_r              1000 non-null float64\n",
      "mean_LifeSquare_r          1000 non-null float64\n",
      "mean_KitchenSquare_r       1000 non-null float64\n",
      "mean_price_r               1000 non-null float64\n",
      "ratio_DistrictId           1000 non-null float64\n",
      "ratio_Social_1             1000 non-null float64\n",
      "ratio_Social_3             1000 non-null float64\n",
      "ratio_Healthcare_1         1000 non-null float64\n",
      "ratio_Helthcare_2          1000 non-null float64\n",
      "ratio_Shops_1              1000 non-null float64\n",
      "mean_price_DistrictId      1000 non-null float64\n",
      "mean_price_Social_1        1000 non-null float64\n",
      "mean_price_Social_3        1000 non-null float64\n",
      "mean_price_Healthcare_1    1000 non-null float64\n",
      "mean_price_Helthcare_2     1000 non-null float64\n",
      "mean_price_Shops_1         1000 non-null float64\n",
      "dtypes: float64(24), int32(4), int64(3), object(6)\n",
      "memory usage: 281.2+ KB\n"
     ]
    }
   ],
   "source": [
    "valid.info()"
   ]
  },
  {
   "cell_type": "code",
   "execution_count": 33,
   "metadata": {},
   "outputs": [],
   "source": [
    "# Получение списка признаков, отсортированных по важности \n",
    "def get_importance(model, feats):\n",
    "    importances = model.feature_importances_\n",
    "    indices = np.argsort(importances)[::-1]\n",
    "    \n",
    "    return [feats[i] for i in indices]"
   ]
  },
  {
   "cell_type": "code",
   "execution_count": 34,
   "metadata": {},
   "outputs": [],
   "source": [
    "# Проверка модели\n",
    "# train, valid - DataFrames\n",
    "# feats - columns\n",
    "# isUseBestFindModel: нужно ли использовать ранее найденную модель или искать новую с помощью GridSearchCV\n",
    "\n",
    "def check_model(train, valid, feats, isUseBestFindModel = True):\n",
    "    if isUseBestFindModel:\n",
    "        model = RF(random_state=128, n_estimators=200, max_depth=11, max_features= 6, min_samples_leaf=2)\n",
    "        model.fit(train.loc[:, feats], train['Price'])\n",
    "    else:\n",
    "        parameters = [{'n_estimators': [100, 200, 300], \n",
    "               'max_features': np.arange(5, 9),\n",
    "               'max_depth': np.arange(10, 14),\n",
    "               'min_samples_leaf': np.arange(2, 5)\n",
    "             }]\n",
    "        model = GridSearchCV(estimator=RF(random_state=128),\n",
    "                   param_grid=parameters,\n",
    "                   cv=5)\n",
    "        model.fit(train.loc[:, feats], train['Price'])\n",
    "        print(model.best_params_)                                \n",
    "        model = model.best_estimator_                                 \n",
    "    \n",
    "    pred_train = model.predict(train.loc[:, feats])\n",
    "    pred_valid = model.predict(valid.loc[:, feats])\n",
    "    metric_train = r2(train['Price'], pred_train), mse(train['Price'], pred_train)\n",
    "    metric_valid = r2(valid['Price'], pred_valid), mse(valid['Price'], pred_valid)\n",
    "    \n",
    "    return metric_train, metric_valid, model"
   ]
  },
  {
   "cell_type": "markdown",
   "metadata": {},
   "source": [
    "Лучшие параметры:\n",
    "{'max_depth': 11,\n",
    " 'max_features': 6,\n",
    " 'min_samples_leaf': 2,\n",
    " 'n_estimators': 200}"
   ]
  },
  {
   "cell_type": "code",
   "execution_count": 35,
   "metadata": {},
   "outputs": [],
   "source": [
    "# Поиск наиболее подходящих признаков для модели. Критерий r2 на valid\n",
    "def find_best_feats(train, valid, feats, isUseBestFindModel = True):\n",
    "    best_feats = []\n",
    "    best_metric_train = None\n",
    "    best_metric_valid = None\n",
    "    best_model = None\n",
    "    \n",
    "    cur_feats = feats\n",
    "    cur_metric_train = None\n",
    "    cur_metric_valid = None\n",
    "    cur_model = None\n",
    "    \n",
    "    cur_metric_train, cur_metric_valid, cur_model = check_model(train, valid, cur_feats, isUseBestFindModel) \n",
    "    best_metric_train, best_metric_valid, best_model = cur_metric_train, cur_metric_valid, cur_model\n",
    "    importance_feats = get_importance(best_model, feats)\n",
    "    for item in importance_feats:        \n",
    "        cur_feats.remove(item)\n",
    "        if len(cur_feats) > 0:\n",
    "            cur_metric_train, cur_metric_valid, cur_model = check_model(train, valid, cur_feats, isUseBestFindModel) \n",
    "            if (best_metric_valid[0] < cur_metric_valid[0]):\n",
    "                # print(f'{cur_metric_valid}:{cur_feats}')\n",
    "                best_metric_train, best_metric_valid, best_model = cur_metric_train, cur_metric_valid, cur_model\n",
    "                best_feats = cur_feats\n",
    "            else:\n",
    "                cur_feats.append(item)\n",
    "    return best_metric_train, best_metric_valid, best_model, best_feats"
   ]
  },
  {
   "cell_type": "code",
   "execution_count": 36,
   "metadata": {},
   "outputs": [],
   "source": [
    "metric_train, metric_valid, model, feats = find_best_feats(train, valid, feats, True)"
   ]
  },
  {
   "cell_type": "markdown",
   "metadata": {},
   "source": [
    "Отсортированные по важности признаки лучшей модели"
   ]
  },
  {
   "cell_type": "code",
   "execution_count": 37,
   "metadata": {
    "scrolled": true
   },
   "outputs": [
    {
     "name": "stdout",
     "output_type": "stream",
     "text": [
      "Feature importances:\n",
      " 1. feature 'Rooms' (0.2513)\n",
      " 2. feature 'LifeSquare' (0.1261)\n",
      " 3. feature 'ratio_DistrictId' (0.0988)\n",
      " 4. feature 'mean_price_Social_1' (0.0935)\n",
      " 5. feature 'HouseYear' (0.0854)\n",
      " 6. feature 'KitchenSquare' (0.0739)\n",
      " 7. feature 'mean_Square_r' (0.0533)\n",
      " 8. feature 'mean_price_Healthcare_1' (0.0482)\n",
      " 9. feature 'Ecology_1' (0.0347)\n",
      "10. feature 'HouseFloor' (0.0271)\n",
      "11. feature 'ratio_Social_3' (0.0237)\n",
      "12. feature 'ratio_Social_1' (0.0234)\n",
      "13. feature 'ratio_Shops_1' (0.0157)\n",
      "14. feature 'ratio_Healthcare_1' (0.0155)\n",
      "15. feature 'Shops_2' (0.0150)\n",
      "16. feature 'mean_price_Helthcare_2' (0.0135)\n",
      "17. feature 'Ecology_2' (0.0010)\n",
      "18. feature 'Square' (0.0000)\n"
     ]
    }
   ],
   "source": [
    "importances = model.feature_importances_\n",
    "indices = np.argsort(importances)[::-1]\n",
    "print(\"Feature importances:\")\n",
    "for f, idx in enumerate(indices):\n",
    "    print(\"{:2d}. feature '{:5s}' ({:.4f})\".format(f + 1, feats[idx], importances[idx]))"
   ]
  },
  {
   "cell_type": "markdown",
   "metadata": {},
   "source": [
    "Метрики модели на train и valid"
   ]
  },
  {
   "cell_type": "code",
   "execution_count": 38,
   "metadata": {},
   "outputs": [
    {
     "data": {
      "text/plain": [
       "((0.8633819053943148, 1187412265.2237215),\n",
       " (0.7383523085489845, 2097252069.321771))"
      ]
     },
     "execution_count": 38,
     "metadata": {},
     "output_type": "execute_result"
    }
   ],
   "source": [
    "metric_train, metric_valid"
   ]
  },
  {
   "cell_type": "markdown",
   "metadata": {},
   "source": [
    "Размеры не изменились"
   ]
  },
  {
   "cell_type": "code",
   "execution_count": 39,
   "metadata": {},
   "outputs": [
    {
     "data": {
      "text/plain": [
       "((9000, 37), (1000, 37))"
      ]
     },
     "execution_count": 39,
     "metadata": {},
     "output_type": "execute_result"
    }
   ],
   "source": [
    "train.shape, valid.shape"
   ]
  },
  {
   "cell_type": "code",
   "execution_count": 40,
   "metadata": {},
   "outputs": [
    {
     "name": "stdout",
     "output_type": "stream",
     "text": [
      "<class 'pandas.core.frame.DataFrame'>\n",
      "Int64Index: 9000 entries, 0 to 8999\n",
      "Data columns (total 37 columns):\n",
      "Id                         9000 non-null int64\n",
      "DistrictId                 9000 non-null object\n",
      "Rooms                      9000 non-null float64\n",
      "Square                     9000 non-null float64\n",
      "LifeSquare                 9000 non-null float64\n",
      "KitchenSquare              9000 non-null float64\n",
      "Floor                      9000 non-null float64\n",
      "HouseFloor                 9000 non-null int64\n",
      "HouseYear                  9000 non-null int64\n",
      "Ecology_1                  9000 non-null float64\n",
      "Ecology_2                  9000 non-null int32\n",
      "Ecology_3                  9000 non-null int32\n",
      "Social_1                   9000 non-null object\n",
      "Social_2                   9000 non-null int32\n",
      "Social_3                   9000 non-null object\n",
      "Healthcare_1               9000 non-null object\n",
      "Helthcare_2                9000 non-null object\n",
      "Shops_1                    9000 non-null object\n",
      "Shops_2                    9000 non-null int32\n",
      "Price                      9000 non-null float64\n",
      "mean_price_dr              9000 non-null float64\n",
      "mean_Square_r              9000 non-null float64\n",
      "mean_LifeSquare_r          9000 non-null float64\n",
      "mean_KitchenSquare_r       9000 non-null float64\n",
      "mean_price_r               9000 non-null float64\n",
      "ratio_DistrictId           9000 non-null float64\n",
      "ratio_Social_1             9000 non-null float64\n",
      "ratio_Social_3             9000 non-null float64\n",
      "ratio_Healthcare_1         9000 non-null float64\n",
      "ratio_Helthcare_2          9000 non-null float64\n",
      "ratio_Shops_1              9000 non-null float64\n",
      "mean_price_DistrictId      9000 non-null float64\n",
      "mean_price_Social_1        9000 non-null float64\n",
      "mean_price_Social_3        9000 non-null float64\n",
      "mean_price_Healthcare_1    9000 non-null float64\n",
      "mean_price_Helthcare_2     9000 non-null float64\n",
      "mean_price_Shops_1         9000 non-null float64\n",
      "dtypes: float64(24), int32(4), int64(3), object(6)\n",
      "memory usage: 2.5+ MB\n"
     ]
    }
   ],
   "source": [
    "train.info()"
   ]
  },
  {
   "cell_type": "code",
   "execution_count": 41,
   "metadata": {},
   "outputs": [
    {
     "name": "stdout",
     "output_type": "stream",
     "text": [
      "<class 'pandas.core.frame.DataFrame'>\n",
      "Int64Index: 1000 entries, 0 to 999\n",
      "Data columns (total 37 columns):\n",
      "Id                         1000 non-null int64\n",
      "DistrictId                 1000 non-null object\n",
      "Rooms                      1000 non-null float64\n",
      "Square                     1000 non-null float64\n",
      "LifeSquare                 1000 non-null float64\n",
      "KitchenSquare              1000 non-null float64\n",
      "Floor                      1000 non-null float64\n",
      "HouseFloor                 1000 non-null int64\n",
      "HouseYear                  1000 non-null int64\n",
      "Ecology_1                  1000 non-null float64\n",
      "Ecology_2                  1000 non-null int32\n",
      "Ecology_3                  1000 non-null int32\n",
      "Social_1                   1000 non-null object\n",
      "Social_2                   1000 non-null int32\n",
      "Social_3                   1000 non-null object\n",
      "Healthcare_1               1000 non-null object\n",
      "Helthcare_2                1000 non-null object\n",
      "Shops_1                    1000 non-null object\n",
      "Shops_2                    1000 non-null int32\n",
      "Price                      1000 non-null float64\n",
      "mean_price_dr              1000 non-null float64\n",
      "mean_Square_r              1000 non-null float64\n",
      "mean_LifeSquare_r          1000 non-null float64\n",
      "mean_KitchenSquare_r       1000 non-null float64\n",
      "mean_price_r               1000 non-null float64\n",
      "ratio_DistrictId           1000 non-null float64\n",
      "ratio_Social_1             1000 non-null float64\n",
      "ratio_Social_3             1000 non-null float64\n",
      "ratio_Healthcare_1         1000 non-null float64\n",
      "ratio_Helthcare_2          1000 non-null float64\n",
      "ratio_Shops_1              1000 non-null float64\n",
      "mean_price_DistrictId      1000 non-null float64\n",
      "mean_price_Social_1        1000 non-null float64\n",
      "mean_price_Social_3        1000 non-null float64\n",
      "mean_price_Healthcare_1    1000 non-null float64\n",
      "mean_price_Helthcare_2     1000 non-null float64\n",
      "mean_price_Shops_1         1000 non-null float64\n",
      "dtypes: float64(24), int32(4), int64(3), object(6)\n",
      "memory usage: 281.2+ KB\n"
     ]
    }
   ],
   "source": [
    "valid.info()"
   ]
  },
  {
   "cell_type": "markdown",
   "metadata": {},
   "source": [
    "##### Result:"
   ]
  },
  {
   "cell_type": "code",
   "execution_count": 42,
   "metadata": {},
   "outputs": [],
   "source": [
    "test = pd.read_csv('test.csv')"
   ]
  },
  {
   "cell_type": "code",
   "execution_count": 43,
   "metadata": {},
   "outputs": [],
   "source": [
    "test = prepare_data(test)"
   ]
  },
  {
   "cell_type": "code",
   "execution_count": 44,
   "metadata": {},
   "outputs": [
    {
     "name": "stdout",
     "output_type": "stream",
     "text": [
      "<class 'pandas.core.frame.DataFrame'>\n",
      "Int64Index: 5000 entries, 0 to 4999\n",
      "Data columns (total 36 columns):\n",
      "Id                         5000 non-null int64\n",
      "DistrictId                 5000 non-null object\n",
      "Rooms                      5000 non-null float64\n",
      "Square                     5000 non-null float64\n",
      "LifeSquare                 5000 non-null float64\n",
      "KitchenSquare              5000 non-null float64\n",
      "Floor                      5000 non-null float64\n",
      "HouseFloor                 5000 non-null int64\n",
      "HouseYear                  5000 non-null int64\n",
      "Ecology_1                  5000 non-null float64\n",
      "Ecology_2                  5000 non-null int32\n",
      "Ecology_3                  5000 non-null int32\n",
      "Social_1                   5000 non-null object\n",
      "Social_2                   5000 non-null int32\n",
      "Social_3                   5000 non-null object\n",
      "Healthcare_1               5000 non-null object\n",
      "Helthcare_2                5000 non-null object\n",
      "Shops_1                    5000 non-null object\n",
      "Shops_2                    5000 non-null int32\n",
      "mean_price_dr              5000 non-null float64\n",
      "mean_Square_r              5000 non-null float64\n",
      "mean_LifeSquare_r          5000 non-null float64\n",
      "mean_KitchenSquare_r       5000 non-null float64\n",
      "mean_price_r               5000 non-null float64\n",
      "ratio_DistrictId           5000 non-null float64\n",
      "ratio_Social_1             5000 non-null float64\n",
      "ratio_Social_3             5000 non-null float64\n",
      "ratio_Healthcare_1         5000 non-null float64\n",
      "ratio_Helthcare_2          5000 non-null float64\n",
      "ratio_Shops_1              5000 non-null float64\n",
      "mean_price_DistrictId      5000 non-null float64\n",
      "mean_price_Social_1        5000 non-null float64\n",
      "mean_price_Social_3        5000 non-null float64\n",
      "mean_price_Healthcare_1    5000 non-null float64\n",
      "mean_price_Helthcare_2     5000 non-null float64\n",
      "mean_price_Shops_1         5000 non-null float64\n",
      "dtypes: float64(23), int32(4), int64(3), object(6)\n",
      "memory usage: 1.3+ MB\n"
     ]
    }
   ],
   "source": [
    "test.info()"
   ]
  },
  {
   "cell_type": "code",
   "execution_count": 45,
   "metadata": {},
   "outputs": [],
   "source": [
    "test['Price'] = model.predict(test.loc[:, feats])"
   ]
  },
  {
   "cell_type": "code",
   "execution_count": 46,
   "metadata": {},
   "outputs": [],
   "source": [
    "test.loc[:, ['Id', 'Price']].to_csv('SSurname.csv', index=None)"
   ]
  }
 ],
 "metadata": {
  "kernelspec": {
   "display_name": "Python 3",
   "language": "python",
   "name": "python3"
  },
  "language_info": {
   "codemirror_mode": {
    "name": "ipython",
    "version": 3
   },
   "file_extension": ".py",
   "mimetype": "text/x-python",
   "name": "python",
   "nbconvert_exporter": "python",
   "pygments_lexer": "ipython3",
   "version": "3.7.1"
  }
 },
 "nbformat": 4,
 "nbformat_minor": 2
}
